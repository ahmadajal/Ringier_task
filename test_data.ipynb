{
 "cells": [
  {
   "cell_type": "code",
   "execution_count": 58,
   "metadata": {},
   "outputs": [],
   "source": [
    "import pandas as pd\n",
    "import numpy as np\n",
    "import json\n",
    "from bs4 import BeautifulSoup\n",
    "from bs4.element import Tag"
   ]
  },
  {
   "cell_type": "code",
   "execution_count": 3,
   "metadata": {},
   "outputs": [],
   "source": [
    "with open(\"data/train_data.json\", \"r\") as f:\n",
    "    train_data = json.load(f)"
   ]
  },
  {
   "cell_type": "code",
   "execution_count": 5,
   "metadata": {},
   "outputs": [
    {
     "data": {
      "text/plain": [
       "7683"
      ]
     },
     "execution_count": 5,
     "metadata": {},
     "output_type": "execute_result"
    }
   ],
   "source": [
    "len(train_data)"
   ]
  },
  {
   "cell_type": "code",
   "execution_count": 168,
   "metadata": {
    "scrolled": false
   },
   "outputs": [],
   "source": [
    "html = train_data[100][\"content\"][\"fullTextHtml\"]"
   ]
  },
  {
   "cell_type": "code",
   "execution_count": 155,
   "metadata": {},
   "outputs": [
    {
     "name": "stdout",
     "output_type": "stream",
     "text": [
      "Investigators said Tuesday that two sisters who killed their father after years of abuse should face murder charges in a case highlighting Russia's dire record on domestic violence.\n",
      "Three Russian sisters -- Krestina, Angelina and Maria Khachaturyan -- stabbed their father Mikhail to death in July, 2018 after suffering years of beatings and sexual assault.\n",
      "They were 17, 18 and 19 at the time.\n",
      "Russia's Investigate Committee said in a statement on Tuesday that it had completed a probe into the killing and was recommending charges of murder and conspiracy to commit murder against the two older sisters, Krestina and Angelina.\n",
      "The probe established that the sisters, acting as a group, stabbed their father with a knife and beat him with a hammer, causing fatal injuries.\n",
      "It pointed to \"mitigating circumstances\" but said the two older sisters were of sound mind and aware of their actions at the time of the attack.\n",
      "They face up to 20 years in prison if convicted. Investigators recommended that the youngest sister, Maria, should enter mandatory psychiatric care.\n",
      "Lawyers and activists say the teenagers were forced to act to save their own lives, pointing to poor legal protections for abuse victims in a country where a separate law on domestic violence still does not exist.\n",
      "Mari Davtyan, a lawyer for Angelina, told AFP the case should not go to trial in its current form.\n",
      "She said the sisters \"used reasonable force in self-defence\".\n",
      "as/mm/bp\n"
     ]
    }
   ],
   "source": [
    "soup = BeautifulSoup(html, features=\"lxml\")\n",
    "text = soup.get_text()\n",
    "lines = [line.strip() for line in text.splitlines()]\n",
    "print(\"\\n\".join(lines))"
   ]
  },
  {
   "cell_type": "code",
   "execution_count": 156,
   "metadata": {},
   "outputs": [],
   "source": [
    "blocks = [\"p\", \"h\", \"h1\", \"h2\", \"h3\", \"h4\", \"h5\", \"li\", \"u\", \"div\"]\n",
    "\n",
    "def _extract_blocks(parent_tag) -> list:\n",
    "    extracted_blocks = []\n",
    "    for tag in parent_tag:\n",
    "        if tag.name in blocks:\n",
    "            extracted_blocks.append(tag)\n",
    "            continue\n",
    "        if isinstance(tag, Tag):\n",
    "            if len(tag.contents) > 0:\n",
    "                inner_blocks = _extract_blocks(tag)\n",
    "                if len(inner_blocks) > 0:\n",
    "                    extracted_blocks.extend(inner_blocks)\n",
    "    return extracted_blocks\n",
    "\n",
    "def to_plaintext(html_text: str) -> str:\n",
    "    soup = BeautifulSoup(html_text, features=\"lxml\")\n",
    "    extracted_blocks = _extract_blocks(soup.body)\n",
    "    extracted_blocks_texts = [block.get_text().strip() for block in extracted_blocks]\n",
    "    return \"\\n\".join(extracted_blocks_texts)"
   ]
  },
  {
   "cell_type": "code",
   "execution_count": 159,
   "metadata": {
    "scrolled": false
   },
   "outputs": [
    {
     "name": "stdout",
     "output_type": "stream",
     "text": [
      "Investigators said Tuesday that two sisters who killed their father after years of abuse should face murder charges in a case highlighting Russia's dire record on domestic violence.\n",
      "Three Russian sisters -- Krestina, Angelina and Maria Khachaturyan -- stabbed their father Mikhail to death in July, 2018 after suffering years of beatings and sexual assault.\n",
      "They were 17, 18 and 19 at the time.\n",
      "Russia's Investigate Committee said in a statement on Tuesday that it had completed a probe into the killing and was recommending charges of murder and conspiracy to commit murder against the two older sisters, Krestina and Angelina.\n",
      "The probe established that the sisters, acting as a group, stabbed their father with a knife and beat him with a hammer, causing fatal injuries.\n",
      "It pointed to \"mitigating circumstances\" but said the two older sisters were of sound mind and aware of their actions at the time of the attack.\n",
      "They face up to 20 years in prison if convicted. Investigators recommended that the youngest sister, Maria, should enter mandatory psychiatric care.\n",
      "Lawyers and activists say the teenagers were forced to act to save their own lives, pointing to poor legal protections for abuse victims in a country where a separate law on domestic violence still does not exist.\n",
      "Mari Davtyan, a lawyer for Angelina, told AFP the case should not go to trial in its current form.\n",
      "She said the sisters \"used reasonable force in self-defence\".\n",
      "as/mm/bp\n"
     ]
    }
   ],
   "source": [
    "print(to_plaintext(html))"
   ]
  },
  {
   "cell_type": "code",
   "execution_count": 169,
   "metadata": {},
   "outputs": [],
   "source": [
    "#load the processed data\n",
    "with open(\"processed_data/processed_train_data.json\", \"r\") as f:\n",
    "    p_train_data = json.load(f)"
   ]
  },
  {
   "cell_type": "code",
   "execution_count": 173,
   "metadata": {},
   "outputs": [
    {
     "name": "stdout",
     "output_type": "stream",
     "text": [
      "Investigators said Tuesday that two sisters who killed their father after years of abuse should face murder charges in a case highlighting Russia's dire record on domestic violence.\n",
      "Three Russian sisters -- Krestina, Angelina and Maria Khachaturyan -- stabbed their father Mikhail to death in July, 2018 after suffering years of beatings and sexual assault.\n",
      "They were 17, 18 and 19 at the time.\n",
      "Russia's Investigate Committee said in a statement on Tuesday that it had completed a probe into the killing and was recommending charges of murder and conspiracy to commit murder against the two older sisters, Krestina and Angelina.\n",
      "The probe established that the sisters, acting as a group, stabbed their father with a knife and beat him with a hammer, causing fatal injuries.\n",
      "It pointed to \"mitigating circumstances\" but said the two older sisters were of sound mind and aware of their actions at the time of the attack.\n",
      "They face up to 20 years in prison if convicted. Investigators recommended that the youngest sister, Maria, should enter mandatory psychiatric care.\n",
      "Lawyers and activists say the teenagers were forced to act to save their own lives, pointing to poor legal protections for abuse victims in a country where a separate law on domestic violence still does not exist.\n",
      "Mari Davtyan, a lawyer for Angelina, told AFP the case should not go to trial in its current form.\n",
      "She said the sisters \"used reasonable force in self-defence\".\n",
      "as/mm/bp\n"
     ]
    }
   ],
   "source": [
    "print(p_train_data[100][\"content\"][\"fullText\"])"
   ]
  },
  {
   "cell_type": "code",
   "execution_count": 49,
   "metadata": {},
   "outputs": [
    {
     "name": "stdout",
     "output_type": "stream",
     "text": [
      "{'figure', 'tr', 'h3', 'u', 'strong', 'a', 'div', 'td', 'table', 'img', 'li', 'h', 'meta', 'sup', 'ul', 'span', 'em', 'h1', 'sub', 'figcaption', 'ol', 'h2', 'p'}\n"
     ]
    }
   ],
   "source": [
    "# get all tags\n",
    "all_tags = []\n",
    "for e in train_data:\n",
    "    html = e[\"content\"][\"fullTextHtml\"]\n",
    "    soup = BeautifulSoup(html, features=\"html.parser\")\n",
    "    all_tags += [tag.name for tag in soup.find_all()]\n",
    "\n",
    "print(set(all_tags))"
   ]
  },
  {
   "cell_type": "code",
   "execution_count": 6,
   "metadata": {},
   "outputs": [],
   "source": [
    "with open(\"data/taxonomy_mappings.json\", \"r\") as f:\n",
    "    taxonomy_mappings = json.load(f)"
   ]
  },
  {
   "cell_type": "code",
   "execution_count": 7,
   "metadata": {
    "collapsed": true
   },
   "outputs": [
    {
     "data": {
      "text/plain": [
       "{'0': 'arts, culture and entertainment',\n",
       " '1': 'automotive',\n",
       " '2': 'crime, law and justice',\n",
       " '3': 'disaster and accident',\n",
       " '4': 'economy, business and finance',\n",
       " '5': 'education',\n",
       " '6': 'environment',\n",
       " '7': 'health',\n",
       " '8': 'labour',\n",
       " '9': 'lifestyle',\n",
       " '10': 'news',\n",
       " '11': 'non-standard content',\n",
       " '12': 'pets',\n",
       " '13': 'politics',\n",
       " '14': 'religion and belief',\n",
       " '15': 'science and technology',\n",
       " '16': 'society',\n",
       " '17': 'sport',\n",
       " '18': 'unrest, conflicts and war'}"
      ]
     },
     "execution_count": 7,
     "metadata": {},
     "output_type": "execute_result"
    }
   ],
   "source": [
    "taxonomy_mappings"
   ]
  },
  {
   "cell_type": "code",
   "execution_count": 11,
   "metadata": {},
   "outputs": [],
   "source": [
    "with open(\"data/predict_payload.json\", \"r\") as f:\n",
    "    pred_payload = json.load(f)"
   ]
  },
  {
   "cell_type": "code",
   "execution_count": 25,
   "metadata": {},
   "outputs": [],
   "source": [
    "content_df = pd.DataFrame(list(pd.DataFrame(train_data)['content']))"
   ]
  },
  {
   "cell_type": "code",
   "execution_count": 27,
   "metadata": {},
   "outputs": [
    {
     "data": {
      "text/plain": [
       "sections\n",
       "[news -> world]                                        1720\n",
       "[bi -> tech]                                           1218\n",
       "[bi -> politics]                                        770\n",
       "[bi -> finance]                                         624\n",
       "[sports -> football]                                    565\n",
       "[bi -> lifestyle]                                       419\n",
       "[lifestyle -> mens-health]                              414\n",
       "[bi -> strategy]                                        398\n",
       "[news]                                                  326\n",
       "[lifestyle -> womens-health]                            321\n",
       "[bi -> sports]                                          248\n",
       "[the-new-york-times -> world]                           236\n",
       "[entertainment]                                         196\n",
       "[the-new-york-times -> entertainment]                    82\n",
       "[video]                                                  68\n",
       "[news -> politics]                                       32\n",
       "[lifestyle -> beauty-health]                             19\n",
       "[lifestyle -> relationships-and-weddings]                12\n",
       "[Home -> Test Section Home]                               3\n",
       "[lifestyle -> food-travel]                                3\n",
       "[sports]                                                  2\n",
       "[the-new-york-times -> opinion]                           2\n",
       "[Style]                                                   1\n",
       "[lifestyle]                                               1\n",
       "[Home -> News -> Wirtschaft -> WEF, Home]                 1\n",
       "[People]                                                  1\n",
       "[Home -> Test Section Home -> Test Default Section]       1\n",
       "Name: count, dtype: int64"
      ]
     },
     "execution_count": 27,
     "metadata": {},
     "output_type": "execute_result"
    }
   ],
   "source": [
    "content_df[\"sections\"].value_counts()"
   ]
  },
  {
   "cell_type": "code",
   "execution_count": null,
   "metadata": {},
   "outputs": [],
   "source": []
  }
 ],
 "metadata": {
  "kernelspec": {
   "display_name": "Python 3",
   "language": "python",
   "name": "python3"
  },
  "language_info": {
   "codemirror_mode": {
    "name": "ipython",
    "version": 3
   },
   "file_extension": ".py",
   "mimetype": "text/x-python",
   "name": "python",
   "nbconvert_exporter": "python",
   "pygments_lexer": "ipython3",
   "version": "3.8.5"
  }
 },
 "nbformat": 4,
 "nbformat_minor": 4
}
